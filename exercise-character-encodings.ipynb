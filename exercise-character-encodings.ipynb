{
 "cells": [
  {
   "cell_type": "markdown",
   "id": "2eb29e87",
   "metadata": {
    "papermill": {
     "duration": 0.006243,
     "end_time": "2022-07-03T05:09:51.400318",
     "exception": false,
     "start_time": "2022-07-03T05:09:51.394075",
     "status": "completed"
    },
    "tags": []
   },
   "source": [
    "**This notebook is an exercise in the [Data Cleaning](https://www.kaggle.com/learn/data-cleaning) course.  You can reference the tutorial at [this link](https://www.kaggle.com/alexisbcook/character-encodings).**\n",
    "\n",
    "---\n"
   ]
  },
  {
   "cell_type": "markdown",
   "id": "dc71a65b",
   "metadata": {
    "papermill": {
     "duration": 0.004936,
     "end_time": "2022-07-03T05:09:51.410724",
     "exception": false,
     "start_time": "2022-07-03T05:09:51.405788",
     "status": "completed"
    },
    "tags": []
   },
   "source": [
    "In this exercise, you'll apply what you learned in the **Character encodings** tutorial.\n",
    "\n",
    "# Setup\n",
    "\n",
    "The questions below will give you feedback on your work. Run the following cell to set up the feedback system."
   ]
  },
  {
   "cell_type": "code",
   "execution_count": 1,
   "id": "985197ea",
   "metadata": {
    "execution": {
     "iopub.execute_input": "2022-07-03T05:09:51.423527Z",
     "iopub.status.busy": "2022-07-03T05:09:51.422734Z",
     "iopub.status.idle": "2022-07-03T05:09:51.531889Z",
     "shell.execute_reply": "2022-07-03T05:09:51.530840Z"
    },
    "papermill": {
     "duration": 0.118414,
     "end_time": "2022-07-03T05:09:51.534310",
     "exception": false,
     "start_time": "2022-07-03T05:09:51.415896",
     "status": "completed"
    },
    "tags": []
   },
   "outputs": [
    {
     "name": "stdout",
     "output_type": "stream",
     "text": [
      "Setup Complete\n"
     ]
    }
   ],
   "source": [
    "from learntools.core import binder\n",
    "binder.bind(globals())\n",
    "from learntools.data_cleaning.ex4 import *\n",
    "print(\"Setup Complete\")"
   ]
  },
  {
   "cell_type": "markdown",
   "id": "b3bc39fa",
   "metadata": {
    "papermill": {
     "duration": 0.005369,
     "end_time": "2022-07-03T05:09:51.545561",
     "exception": false,
     "start_time": "2022-07-03T05:09:51.540192",
     "status": "completed"
    },
    "tags": []
   },
   "source": [
    "# Get our environment set up\n",
    "\n",
    "The first thing we'll need to do is load in the libraries we'll be using."
   ]
  },
  {
   "cell_type": "code",
   "execution_count": 2,
   "id": "3fce5ac0",
   "metadata": {
    "execution": {
     "iopub.execute_input": "2022-07-03T05:09:51.559645Z",
     "iopub.status.busy": "2022-07-03T05:09:51.558446Z",
     "iopub.status.idle": "2022-07-03T05:09:51.565390Z",
     "shell.execute_reply": "2022-07-03T05:09:51.564134Z"
    },
    "papermill": {
     "duration": 0.016759,
     "end_time": "2022-07-03T05:09:51.568077",
     "exception": false,
     "start_time": "2022-07-03T05:09:51.551318",
     "status": "completed"
    },
    "tags": []
   },
   "outputs": [],
   "source": [
    "# modules we'll use\n",
    "import pandas as pd\n",
    "import numpy as np\n",
    "\n",
    "# helpful character encoding module\n",
    "import chardet\n",
    "\n",
    "# set seed for reproducibility\n",
    "np.random.seed(0)"
   ]
  },
  {
   "cell_type": "markdown",
   "id": "db9bda4b",
   "metadata": {
    "papermill": {
     "duration": 0.004942,
     "end_time": "2022-07-03T05:09:51.578407",
     "exception": false,
     "start_time": "2022-07-03T05:09:51.573465",
     "status": "completed"
    },
    "tags": []
   },
   "source": [
    "# 1) What are encodings?\n",
    "\n",
    "You're working with a dataset composed of bytes.  Run the code cell below to print a sample entry."
   ]
  },
  {
   "cell_type": "code",
   "execution_count": 3,
   "id": "151a1f81",
   "metadata": {
    "execution": {
     "iopub.execute_input": "2022-07-03T05:09:51.591696Z",
     "iopub.status.busy": "2022-07-03T05:09:51.590873Z",
     "iopub.status.idle": "2022-07-03T05:09:51.598042Z",
     "shell.execute_reply": "2022-07-03T05:09:51.596449Z"
    },
    "papermill": {
     "duration": 0.016501,
     "end_time": "2022-07-03T05:09:51.600356",
     "exception": false,
     "start_time": "2022-07-03T05:09:51.583855",
     "status": "completed"
    },
    "tags": []
   },
   "outputs": [
    {
     "name": "stdout",
     "output_type": "stream",
     "text": [
      "b'\\xa7A\\xa6n'\n",
      "data type: <class 'bytes'>\n"
     ]
    }
   ],
   "source": [
    "sample_entry = b'\\xa7A\\xa6n'\n",
    "print(sample_entry)\n",
    "print('data type:', type(sample_entry))"
   ]
  },
  {
   "cell_type": "markdown",
   "id": "aa418442",
   "metadata": {
    "papermill": {
     "duration": 0.005295,
     "end_time": "2022-07-03T05:09:51.610918",
     "exception": false,
     "start_time": "2022-07-03T05:09:51.605623",
     "status": "completed"
    },
    "tags": []
   },
   "source": [
    "You notice that it doesn't use the standard UTF-8 encoding. \n",
    "\n",
    "Use the next code cell to create a variable `new_entry` that changes the encoding from `\"big5-tw\"` to `\"utf-8\"`.  `new_entry` should have the bytes datatype."
   ]
  },
  {
   "cell_type": "code",
   "execution_count": 4,
   "id": "6629693d",
   "metadata": {
    "execution": {
     "iopub.execute_input": "2022-07-03T05:09:51.623943Z",
     "iopub.status.busy": "2022-07-03T05:09:51.623349Z",
     "iopub.status.idle": "2022-07-03T05:09:51.635905Z",
     "shell.execute_reply": "2022-07-03T05:09:51.634626Z"
    },
    "papermill": {
     "duration": 0.021943,
     "end_time": "2022-07-03T05:09:51.638303",
     "exception": false,
     "start_time": "2022-07-03T05:09:51.616360",
     "status": "completed"
    },
    "tags": []
   },
   "outputs": [
    {
     "data": {
      "application/javascript": [
       "parent.postMessage({\"jupyterEvent\": \"custom.exercise_interaction\", \"data\": {\"outcomeType\": 1, \"valueTowardsCompletion\": 0.3333333333333333, \"interactionType\": 1, \"questionType\": 1, \"questionId\": \"1_EncodingsIntro\", \"learnToolsVersion\": \"0.3.4\", \"failureMessage\": \"\", \"exceptionClass\": \"\", \"trace\": \"\"}}, \"*\")"
      ],
      "text/plain": [
       "<IPython.core.display.Javascript object>"
      ]
     },
     "metadata": {},
     "output_type": "display_data"
    },
    {
     "data": {
      "text/markdown": [
       "<span style=\"color:#33cc33\">Correct</span>"
      ],
      "text/plain": [
       "Correct"
      ]
     },
     "metadata": {},
     "output_type": "display_data"
    }
   ],
   "source": [
    "new_entry = sample_entry.decode(\"big5-tw\")\n",
    "new_entry = new_entry.encode()\n",
    "\n",
    "# Check your answer\n",
    "q1.check()"
   ]
  },
  {
   "cell_type": "code",
   "execution_count": 5,
   "id": "c05861ae",
   "metadata": {
    "execution": {
     "iopub.execute_input": "2022-07-03T05:09:51.652725Z",
     "iopub.status.busy": "2022-07-03T05:09:51.651978Z",
     "iopub.status.idle": "2022-07-03T05:09:51.657999Z",
     "shell.execute_reply": "2022-07-03T05:09:51.657077Z"
    },
    "papermill": {
     "duration": 0.016851,
     "end_time": "2022-07-03T05:09:51.660918",
     "exception": false,
     "start_time": "2022-07-03T05:09:51.644067",
     "status": "completed"
    },
    "tags": []
   },
   "outputs": [],
   "source": [
    "# Lines below will give you a hint or solution code\n",
    "#q1.hint()\n",
    "#q1.solution()"
   ]
  },
  {
   "cell_type": "markdown",
   "id": "35fbdf8d",
   "metadata": {
    "papermill": {
     "duration": 0.005482,
     "end_time": "2022-07-03T05:09:51.672744",
     "exception": false,
     "start_time": "2022-07-03T05:09:51.667262",
     "status": "completed"
    },
    "tags": []
   },
   "source": [
    "# 2) Reading in files with encoding problems\n",
    "\n",
    "Use the code cell below to read in this file at path `\"../input/fatal-police-shootings-in-the-us/PoliceKillingsUS.csv\"`.  \n",
    "\n",
    "Figure out what the correct encoding should be and read in the file to a DataFrame `police_killings`."
   ]
  },
  {
   "cell_type": "code",
   "execution_count": 6,
   "id": "7fcc73e5",
   "metadata": {
    "execution": {
     "iopub.execute_input": "2022-07-03T05:09:51.686572Z",
     "iopub.status.busy": "2022-07-03T05:09:51.685754Z",
     "iopub.status.idle": "2022-07-03T05:09:51.716639Z",
     "shell.execute_reply": "2022-07-03T05:09:51.715770Z"
    },
    "papermill": {
     "duration": 0.040776,
     "end_time": "2022-07-03T05:09:51.719084",
     "exception": false,
     "start_time": "2022-07-03T05:09:51.678308",
     "status": "completed"
    },
    "tags": []
   },
   "outputs": [
    {
     "data": {
      "application/javascript": [
       "parent.postMessage({\"jupyterEvent\": \"custom.exercise_interaction\", \"data\": {\"outcomeType\": 1, \"valueTowardsCompletion\": 0.3333333333333333, \"interactionType\": 1, \"questionType\": 1, \"questionId\": \"2_ReadIn\", \"learnToolsVersion\": \"0.3.4\", \"failureMessage\": \"\", \"exceptionClass\": \"\", \"trace\": \"\"}}, \"*\")"
      ],
      "text/plain": [
       "<IPython.core.display.Javascript object>"
      ]
     },
     "metadata": {},
     "output_type": "display_data"
    },
    {
     "data": {
      "text/markdown": [
       "<span style=\"color:#33cc33\">Correct</span>"
      ],
      "text/plain": [
       "Correct"
      ]
     },
     "metadata": {},
     "output_type": "display_data"
    }
   ],
   "source": [
    "# TODO: Load in the DataFrame correctly.\n",
    "police_killings = pd.read_csv(\"../input/fatal-police-shootings-in-the-us/PoliceKillingsUS.csv\", encoding='Windows-1252')\n",
    "police_killings.head()\n",
    "\n",
    "# Check your answer\n",
    "q2.check()"
   ]
  },
  {
   "cell_type": "markdown",
   "id": "4e0050ed",
   "metadata": {
    "papermill": {
     "duration": 0.005814,
     "end_time": "2022-07-03T05:09:51.730769",
     "exception": false,
     "start_time": "2022-07-03T05:09:51.724955",
     "status": "completed"
    },
    "tags": []
   },
   "source": [
    "Feel free to use any additional code cells for supplemental work.  To get credit for finishing this question, you'll need to run `q2.check()` and get a result of **Correct**."
   ]
  },
  {
   "cell_type": "code",
   "execution_count": 7,
   "id": "fae61418",
   "metadata": {
    "execution": {
     "iopub.execute_input": "2022-07-03T05:09:51.746128Z",
     "iopub.status.busy": "2022-07-03T05:09:51.744517Z",
     "iopub.status.idle": "2022-07-03T05:09:51.750594Z",
     "shell.execute_reply": "2022-07-03T05:09:51.749635Z"
    },
    "papermill": {
     "duration": 0.016336,
     "end_time": "2022-07-03T05:09:51.753154",
     "exception": false,
     "start_time": "2022-07-03T05:09:51.736818",
     "status": "completed"
    },
    "tags": []
   },
   "outputs": [],
   "source": [
    "# (Optional) Use this code cell for any additional work."
   ]
  },
  {
   "cell_type": "code",
   "execution_count": 8,
   "id": "e50a3479",
   "metadata": {
    "execution": {
     "iopub.execute_input": "2022-07-03T05:09:51.767357Z",
     "iopub.status.busy": "2022-07-03T05:09:51.766548Z",
     "iopub.status.idle": "2022-07-03T05:09:51.771413Z",
     "shell.execute_reply": "2022-07-03T05:09:51.770599Z"
    },
    "papermill": {
     "duration": 0.014893,
     "end_time": "2022-07-03T05:09:51.774044",
     "exception": false,
     "start_time": "2022-07-03T05:09:51.759151",
     "status": "completed"
    },
    "tags": []
   },
   "outputs": [],
   "source": [
    "# Lines below will give you a hint or solution code\n",
    "#q2.hint()\n",
    "#q2.solution()"
   ]
  },
  {
   "cell_type": "markdown",
   "id": "bed49c77",
   "metadata": {
    "papermill": {
     "duration": 0.0058,
     "end_time": "2022-07-03T05:09:51.785853",
     "exception": false,
     "start_time": "2022-07-03T05:09:51.780053",
     "status": "completed"
    },
    "tags": []
   },
   "source": [
    "# 3) Saving your files with UTF-8 encoding\n",
    "\n",
    "Save a version of the police killings dataset to CSV with UTF-8 encoding.  Your answer will be marked correct after saving this file.  \n",
    "\n",
    "Note: When using the `to_csv()` method, supply only the name of the file (e.g., `\"my_file.csv\"`).  This saves the file at the filepath `\"/kaggle/working/my_file.csv\"`."
   ]
  },
  {
   "cell_type": "code",
   "execution_count": 9,
   "id": "18c34723",
   "metadata": {
    "execution": {
     "iopub.execute_input": "2022-07-03T05:09:51.800809Z",
     "iopub.status.busy": "2022-07-03T05:09:51.799953Z",
     "iopub.status.idle": "2022-07-03T05:09:51.848135Z",
     "shell.execute_reply": "2022-07-03T05:09:51.846944Z"
    },
    "papermill": {
     "duration": 0.058685,
     "end_time": "2022-07-03T05:09:51.850696",
     "exception": false,
     "start_time": "2022-07-03T05:09:51.792011",
     "status": "completed"
    },
    "tags": []
   },
   "outputs": [
    {
     "data": {
      "application/javascript": [
       "parent.postMessage({\"jupyterEvent\": \"custom.exercise_interaction\", \"data\": {\"outcomeType\": 1, \"valueTowardsCompletion\": 0.3333333333333333, \"interactionType\": 1, \"questionType\": 2, \"questionId\": \"3_SaveCSV\", \"learnToolsVersion\": \"0.3.4\", \"failureMessage\": \"\", \"exceptionClass\": \"\", \"trace\": \"\"}}, \"*\")"
      ],
      "text/plain": [
       "<IPython.core.display.Javascript object>"
      ]
     },
     "metadata": {},
     "output_type": "display_data"
    },
    {
     "data": {
      "text/markdown": [
       "<span style=\"color:#33cc33\">Correct</span>"
      ],
      "text/plain": [
       "Correct"
      ]
     },
     "metadata": {},
     "output_type": "display_data"
    }
   ],
   "source": [
    "# TODO: Save the police killings dataset to CSV\n",
    "____\n",
    "police_killings.to_csv(\"/kaggle/working/my_file.csv\")\n",
    "# Check your answer\n",
    "q3.check()"
   ]
  },
  {
   "cell_type": "code",
   "execution_count": 10,
   "id": "24df64c3",
   "metadata": {
    "execution": {
     "iopub.execute_input": "2022-07-03T05:09:51.865434Z",
     "iopub.status.busy": "2022-07-03T05:09:51.864718Z",
     "iopub.status.idle": "2022-07-03T05:09:51.869457Z",
     "shell.execute_reply": "2022-07-03T05:09:51.868404Z"
    },
    "papermill": {
     "duration": 0.014844,
     "end_time": "2022-07-03T05:09:51.871700",
     "exception": false,
     "start_time": "2022-07-03T05:09:51.856856",
     "status": "completed"
    },
    "tags": []
   },
   "outputs": [],
   "source": [
    "# Lines below will give you a hint or solution code\n",
    "#q3.hint()\n",
    "#q3.solution()"
   ]
  },
  {
   "cell_type": "markdown",
   "id": "8fe2f18e",
   "metadata": {
    "papermill": {
     "duration": 0.006212,
     "end_time": "2022-07-03T05:09:51.884256",
     "exception": false,
     "start_time": "2022-07-03T05:09:51.878044",
     "status": "completed"
    },
    "tags": []
   },
   "source": [
    "# (Optional) More practice\n",
    "\n",
    "Check out [this dataset of files in different character encodings](https://www.kaggle.com/rtatman/character-encoding-examples). Can you read in all the files with their original encodings and them save them out as UTF-8 files?\n",
    "\n",
    "If you have a file that's in UTF-8 but has just a couple of weird-looking characters in it, you can try out the [ftfy module](https://ftfy.readthedocs.io/en/latest/#) and see if it helps. \n",
    "\n",
    "# Keep going\n",
    "\n",
    "In the final lesson, learn how to [**clean up inconsistent text entries**](https://www.kaggle.com/alexisbcook/inconsistent-data-entry) in your dataset."
   ]
  },
  {
   "cell_type": "markdown",
   "id": "677baf59",
   "metadata": {
    "papermill": {
     "duration": 0.005806,
     "end_time": "2022-07-03T05:09:51.896433",
     "exception": false,
     "start_time": "2022-07-03T05:09:51.890627",
     "status": "completed"
    },
    "tags": []
   },
   "source": [
    "---\n",
    "\n",
    "\n",
    "\n",
    "\n",
    "*Have questions or comments? Visit the [course discussion forum](https://www.kaggle.com/learn/data-cleaning/discussion) to chat with other learners.*"
   ]
  }
 ],
 "metadata": {
  "kernelspec": {
   "display_name": "Python 3",
   "language": "python",
   "name": "python3"
  },
  "language_info": {
   "codemirror_mode": {
    "name": "ipython",
    "version": 3
   },
   "file_extension": ".py",
   "mimetype": "text/x-python",
   "name": "python",
   "nbconvert_exporter": "python",
   "pygments_lexer": "ipython3",
   "version": "3.7.12"
  },
  "papermill": {
   "default_parameters": {},
   "duration": 12.625761,
   "end_time": "2022-07-03T05:09:52.624521",
   "environment_variables": {},
   "exception": null,
   "input_path": "__notebook__.ipynb",
   "output_path": "__notebook__.ipynb",
   "parameters": {},
   "start_time": "2022-07-03T05:09:39.998760",
   "version": "2.3.4"
  }
 },
 "nbformat": 4,
 "nbformat_minor": 5
}
